{
 "cells": [
  {
   "cell_type": "markdown",
   "metadata": {},
   "source": [
    "# 2. How to Download Data from ECMWF "
   ]
  },
  {
   "cell_type": "markdown",
   "metadata": {},
   "source": [
    "For the rest of the book, we will use climate reanalysis data of ECMWF. Therefore, this chapter deals with the process of downloading the data from the ECMWF server. \n",
    "\n",
    "[ECMWF](https://www.ecmwf.int/) is the European Centre for Medium-Range Weather Forecasts. They are both a research institute and a 24/7 operational service, producing global numerical weather predictions and other data for their Member and Co-operating States and the broader community. The Centre has one of the largest supercomputer facilities and meteorological data archives in the world. Other strategic activities include delivering advanced training and assisting the WMO in implementing its programmes.\n",
    "\n",
    "For a more detailed description of the climate reanalysis dataset and reanalysis data in general, see the **What to expect** chapter or the [ECMWF webpage](https://www.ecmwf.int/en/research/climate-reanalysis)!\n",
    "\n"
   ]
  }
 ],
 "metadata": {
  "kernelspec": {
   "display_name": "Python 3",
   "language": "python",
   "name": "python3"
  },
  "language_info": {
   "codemirror_mode": {
    "name": "ipython",
    "version": 3
   },
   "file_extension": ".py",
   "mimetype": "text/x-python",
   "name": "python",
   "nbconvert_exporter": "python",
   "pygments_lexer": "ipython3",
   "version": "3.6.6"
  }
 },
 "nbformat": 4,
 "nbformat_minor": 2
}
