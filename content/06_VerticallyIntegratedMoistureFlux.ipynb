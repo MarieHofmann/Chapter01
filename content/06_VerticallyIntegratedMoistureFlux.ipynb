{
 "cells": [
  {
   "cell_type": "markdown",
   "metadata": {},
   "source": [
    "# 6.Vertically Integrated Moisture Transport"
   ]
  },
  {
   "cell_type": "markdown",
   "metadata": {},
   "source": [
    "In this chapter, we aim to diplay moisture transports over the globe. As we will see, we can plot the integrated moisture transport in a similar way as a windfield!"
   ]
  },
  {
   "cell_type": "markdown",
   "metadata": {},
   "source": [
    "### Background\n"
   ]
  },
  {
   "cell_type": "markdown",
   "metadata": {},
   "source": [
    "The essence of the overall hydrological cycle is the evaporation of moisture ($E$) in one place and the precipitation in other places ($P$). In particular, evaporation exceeds precipitation over the oceans, which allows moisture to be transported by the atmosphere onto land where precipitation exceeds evapotranspiration, and the runoff flows into streams and rivers and discharges into the ocean, completing the cycle (Trenberth et al., 2011).\n"
   ]
  },
  {
   "cell_type": "markdown",
   "metadata": {},
   "source": [
    "This cycle can be expressed in a equation. The atmospheric conservation of moisture equation when vertically integrated in flux form is"
   ]
  },
  {
   "cell_type": "markdown",
   "metadata": {},
   "source": [
    "$$\\frac{\\partial w}{\\partial t}+ \\nabla\\cdot\\frac{1}{g}\\int_{0}^{p_s} vq  dp = E - P$$ "
   ]
  },
  {
   "cell_type": "markdown",
   "metadata": {},
   "source": [
    "Where $q$ is the specific humidity, $v$ the horizontal wind vector, $w = g^{-1}\\int_{0}^{p_s}qdp$ is the precipitable water (total column water vapor), $E$ is the surface evaporation, and $P$ is the net surface precipitation rate.\n",
    "\n",
    "The second term on the left hand side of the equation is the divergence of the vertical integrated moisture flux. \n",
    "Areas for which there is an excess of evaporation over precipitation ($E − P > 0$) are moisture source regions over which the atmospheric moisture fluxes diverge (divergence term >0), and other areas, where moisture fluxes converge, are moisture sink regions.\n",
    "\n",
    "The local change of the total column water vapor is therefore dependent on the local precipitation, evaporation and the moisture flux which transports moisture from neigbouring columns into the respective column."
   ]
  },
  {
   "cell_type": "markdown",
   "metadata": {},
   "source": [
    "To illustrate, how moisture is tranported on our globe and where it origins, we can either plot the integrated moisture flux or its divergence. The divergence will show us the sink and source regions of moisture as explained above.Let's have a quick look at the integrated moisture flux itself:\n",
    "\n",
    "$\\frac{1}{g}\\int_{0}^{p_s} vq  dp$\n",
    "\n",
    "A flux generally consists of the transported quantity, in this case the specific humidity $q$ in [kg/kg] and a velocity, in this case $v$. Integrated from the TOA @ 0 Pa to the surface @ $p_s$ and multplied with $g$, we get the unit $Pa \\cdot m s^{-1}\\cdot s^2 m^{-1}$, which gives $kg m^{-1}s^{-1}$ on the whole. "
   ]
  }
 ],
 "metadata": {
  "kernelspec": {
   "display_name": "Python 3",
   "language": "python",
   "name": "python3"
  },
  "language_info": {
   "codemirror_mode": {
    "name": "ipython",
    "version": 3
   },
   "file_extension": ".py",
   "mimetype": "text/x-python",
   "name": "python",
   "nbconvert_exporter": "python",
   "pygments_lexer": "ipython3",
   "version": "3.6.6"
  }
 },
 "nbformat": 4,
 "nbformat_minor": 2
}
