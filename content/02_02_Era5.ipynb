{
 "cells": [
  {
   "cell_type": "markdown",
   "metadata": {},
   "source": [
    "## 2.2 ERA5"
   ]
  },
  {
   "cell_type": "markdown",
   "metadata": {},
   "source": [
    "Why better use ERA5 instead of ERA-Interim? There are several reasons: \n",
    "\n",
    "The first and most obvious one: Era-Interim stopped producing data the 31st August 2019. So if you need current data, you will have to use ERA5. Furthermore, ERA-Interim was based on a data assimilation system and a model, which was operational at ECMWF in 2006. ERA5 thus benefits from a decade of developments in model physics, core dynamics and data assimilation relative to ERA-Interim. ERA5 also has a significantly enhanced horizontal resolution (31 km grid spacing compared to 79 km for ERA-Interim) and provides an enhanced number of output parameters, including for example a 100 m wind product. The move from ERA-Interim to ERA5 represents a **step change in overall quality and level of detail**.\n",
    "\n",
    "Downloading this newly generated data is quite similar to the process we learned for ERA-Interim:"
   ]
  },
  {
   "cell_type": "markdown",
   "metadata": {},
   "source": [
    "### 2.2.1 Registration"
   ]
  },
  {
   "cell_type": "markdown",
   "metadata": {},
   "source": [
    "To be able to download ERA5 data, you will first have to register at the Climate Data Store (CDS) infrastructure. This can easily be done [here](https://cds.climate.copernicus.eu/user/register). Log in and accept their conditions for the use of data."
   ]
  },
  {
   "cell_type": "markdown",
   "metadata": {},
   "source": [
    "### 2.2.2 How to get the data"
   ]
  },
  {
   "cell_type": "markdown",
   "metadata": {},
   "source": [
    "Again, there are two ways to get the data: either follow the selection tool of the webpage, or do your own python code. \n",
    "\n",
    "#### For the selection tool:\n",
    "\n",
    "* Go to the [datasets](https://cds.climate.copernicus.eu/cdsapp#!/search?type=dataset) of the C3S Climate Data Store. On the left-hand side menu, you can expand 'Product type' and select the product type of interest. In our case, this is 'Reanalysis' for the ERA5 datasets. Select the dataset you are interested in, e.g. [\"ERA5 monthly averaged data on single levels from 1979 to present\"](https://cds.climate.copernicus.eu/cdsapp#!/dataset/reanalysis-era5-single-levels-monthly-means?tab=overview), if you are interested in monthly averages for 2m temperature, surface winds or total precipitation, or [\"ERA5 monthly averaged data on pressure levels from 1979 to present\"](https://cds.climate.copernicus.eu/cdsapp#!/dataset/reanalysis-era5-pressure-levels-monthly-means?tab=overview) for data at different heights. \n",
    "* Click on the tab \"download data\" and you will get to a similar selection tool as on the ECMWF page. This one is even more flexible, so you will e.g. be able to select more than one year and also more than one variable! \n",
    "* Once you are done with your selections, accept the Copernicus licence and click on \"submit form\". A  \"your requests\" page will be displayed showing the status of your submitted request.\n"
   ]
  },
  {
   "cell_type": "markdown",
   "metadata": {},
   "source": [
    "A basic request for 2m temperature and total precipitation for monthly means of the years 1997 and 1998 would look like this:"
   ]
  },
  {
   "cell_type": "markdown",
   "metadata": {},
   "source": [
    "    import cdsapi\n",
    "\n",
    "    c = cdsapi.Client()\n",
    "\n",
    "    c.retrieve(\n",
    "        'reanalysis-era5-single-levels-monthly-means',\n",
    "        {\n",
    "            'product_type':'monthly_averaged_reanalysis',\n",
    "            'variable':['2m_temperature','total_precipitation'],\n",
    "            'year':['1997','1998'],\n",
    "            'month':['01','02','03','04','05','06','07','08','09','10','11','12'],\n",
    "            'time':'00:00',\n",
    "            'format':'netcdf'\n",
    "        },\n",
    "        'download.nc')"
   ]
  },
  {
   "cell_type": "markdown",
   "metadata": {},
   "source": [
    "The file downloaded would be calles 'download.nc' in this case. The default resolution is 0.25° x 0.25° !"
   ]
  },
  {
   "cell_type": "markdown",
   "metadata": {},
   "source": [
    "#### For the python code request:"
   ]
  },
  {
   "cell_type": "markdown",
   "metadata": {},
   "source": [
    "* #### Install CDS API on your machine\n",
    "\n",
    "  If you have Anaconda installed you can install the CDS API by\n",
    "      conda config --add channels conda-forge\n",
    "      conda install cdsapi\n",
    "      \n",
    "* #### Save your API-Key\n",
    " \n",
    "  As before, you will again have to save [your API-Key](https://cds.climate.copernicus.eu/api-how-to). You must be logged in to make this work. Copy paste the two line code into a textfile and save it as '%USERPROFILE%\\.cdsapirc'. In your windows environment, %USERPROFILE% is usually located at C:\\Users\\Username folder. In Linux, save it to       '$HOME/.cdsapirc.' Follow the instructions above from \"ERA-Interim\" if you are not familiar with how to create such a    file, but this time name it '.cdsapirc' instead of '.ecmwfapirc'!\n",
    "  \n",
    "  \n",
    "* It is **necessary to agree to the Terms of Use of every dataset that you intend to download**.\n",
    "\n",
    "\n",
    "* Attached to each dataset download form, the \"Show API request\" button displays the python code to be used. Therefore, you can simply follow the instruction from the \"selection tool\" section above, select your data, agree the terms of Use and click on \"Show API request\"!\n",
    "\n",
    "* #### Refining your CDS API script\n",
    "\n",
    " For a **geographical area subset**, use key `area` in the form `'area: [northern Boundary(B), western B, southern B, eastern B]`.\n",
    "\n",
    " For a **different grid resolution**, use key `grid`.\n",
    " \n",
    " An example for a geographical subset reaching from 50 to 60° N and from -10 to 10° E and a grid resolution of 1°x1°:"
   ]
  },
  {
   "cell_type": "markdown",
   "metadata": {},
   "source": [
    "    import cdsapi\n",
    "\n",
    "    c = cdsapi.Client()\n",
    "\n",
    "    c.retrieve(\n",
    "        'reanalysis-era5-single-levels-monthly-means',\n",
    "        {\n",
    "            'product_type':'monthly_averaged_reanalysis',\n",
    "            'variable':['2m_temperature','total_precipitation'],\n",
    "            'year':['1997','1998'],\n",
    "            'month':['01','02','03','04','05','06','07','08','09','10','11','12'],\n",
    "            'time':'00:00',\n",
    "            'area': [60, -10, 50, 10], # North, West, South, East\n",
    "            'grid': [1.0, 1.0], # east-west (longitude) and north-south resolution  (latitude). Default: 0.25 x 0.25\n",
    "            'format':'netcdf'\n",
    "        },\n",
    "        'ERA5_2mt_precip.nc')"
   ]
  },
  {
   "cell_type": "markdown",
   "metadata": {},
   "source": [
    "This time, we changed the name from 'donwoad.nc' to something more meaningful."
   ]
  },
  {
   "cell_type": "markdown",
   "metadata": {},
   "source": [
    "If you download data like in the above example, you will notive that your data goes from 0° to 360° East in terms of longitude. Since a normal world map goes from -180° to 180° E, a more useful dataset would have the same coordinate system. \n",
    "\n",
    "We can change the longitudinal axis from 0°-360° to -180°-180° by adding the following to our python program:\n",
    "\n",
    "`'area': [90, -180, -90, 180],`"
   ]
  },
  {
   "cell_type": "markdown",
   "metadata": {},
   "source": [
    "As you see, the whole process of requesting ERA5 data works pretty similar to ERA-Interim. It is even a bit easier: the selection tool works better and you do not have those annoying codes for your parameters anymore! \n",
    "\n",
    "In the following sections, we will work with ERA5 data with a grid resolution of 0.75 x 0.75, since a higher resolution would result in a huge amount of data and therefore longer processing times. A resolution of 0.75 x 0.75 is enough for us to have a qualitative look at the data!"
   ]
  }
 ],
 "metadata": {
  "kernelspec": {
   "display_name": "Python 3",
   "language": "python",
   "name": "python3"
  },
  "language_info": {
   "codemirror_mode": {
    "name": "ipython",
    "version": 3
   },
   "file_extension": ".py",
   "mimetype": "text/x-python",
   "name": "python",
   "nbconvert_exporter": "python",
   "pygments_lexer": "ipython3",
   "version": "3.6.6"
  }
 },
 "nbformat": 4,
 "nbformat_minor": 2
}
