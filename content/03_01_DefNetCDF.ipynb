{
 "cells": [
  {
   "cell_type": "markdown",
   "metadata": {},
   "source": [
    "## 3.1 What is a NetCDF File?"
   ]
  },
  {
   "cell_type": "markdown",
   "metadata": {},
   "source": [
    "Most of today's meteorological data are stored in the NetCDF format (``*.nc``), a format that supports the creation, access, and sharing of array-oriented scientific data. We will, from now on, work with this type of data storage.\n",
    "\n",
    "In the python basics chapter, we introduced numpy arrays as a new tool for arithmetics and vector computation. Since the climate data we work with is always multi-dimensional and can be stored in such an array, you might think that numpy arrays were the perfect tool to store our data. So why do we still use NetCDF Files for storing climatological and meteorological data? What is the main difference to a normal numpy array?\n",
    "\n",
    "NetCDF Files can be read by the python module `xarray`! And those xarrays are pretty cool:\n",
    "\n",
    "Xarray introduces labels in the form of dimensions, coordinates and attributes on top of raw NumPy-like multidimensional arrays. This allows for a more intuitive, more concise, and less error-prone developer experience. \n",
    "That means: In a numpy array you could only store e.g. the temperature data of all latitudes and longitudes for a certain time in an array. However, real-world datasets are usually more than just raw numbers: how would you know, where each of the elements in your array is located in a spatial grid? Here comes xarray: you can store a temperature field **and** a label which encodes information about how the array values map to locations in the spatial grid! \n",
    "\n",
    "So know all of a sudden, an axis that would have been called 0,1,2,... in a numpy array gets a meaningful name such as \"longitude\", \"latitude\" or \"time\"! That helps us a lot when dealing with this huge amount of data stored in NetCDF files. Still, they behave like normal arrays, which means you can do normal arithmetics and vector computations with them!\n",
    "\n",
    "Another advantage of an xarray in comparison to numpy arrays is, that you can store metadata on your object, e.g. what unit your data has or who provided the dataset,...\n",
    "Furthermore, a NumPy array can only have one data type, while NetCDF can hold heterogeneous data in one array.\n",
    "\n",
    "We will be able to read the NetCDF files in a python interpreter which will transform them into a xarray and do computations and plots with them. \n",
    "Let's get started and see how that works!"
   ]
  }
 ],
 "metadata": {
  "kernelspec": {
   "display_name": "Python 3",
   "language": "python",
   "name": "python3"
  },
  "language_info": {
   "codemirror_mode": {
    "name": "ipython",
    "version": 3
   },
   "file_extension": ".py",
   "mimetype": "text/x-python",
   "name": "python",
   "nbconvert_exporter": "python",
   "pygments_lexer": "ipython3",
   "version": "3.6.6"
  }
 },
 "nbformat": 4,
 "nbformat_minor": 2
}
