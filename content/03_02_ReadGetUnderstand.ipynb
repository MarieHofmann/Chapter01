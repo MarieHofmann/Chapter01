{
 "cells": [
  {
   "cell_type": "markdown",
   "metadata": {},
   "source": [
    "## 3.2 NetCDF Data - How to get it, read it and understand it"
   ]
  },
  {
   "cell_type": "markdown",
   "metadata": {},
   "source": [
    "### 3.2.1 Importing the Modules and some Options"
   ]
  },
  {
   "cell_type": "markdown",
   "metadata": {},
   "source": [
    "Before we can start to look at our data, we will always need to import our three most important modules: `matplotlib`, `numpy` and `xarray`. We will do some more presettings, so everything will look well sized and nice in our notebook."
   ]
  },
  {
   "cell_type": "code",
   "execution_count": 1,
   "metadata": {},
   "outputs": [],
   "source": [
    "# Display the plots in the notebook:\n",
    "%matplotlib inline"
   ]
  },
  {
   "cell_type": "code",
   "execution_count": 2,
   "metadata": {},
   "outputs": [],
   "source": [
    "# Import the tools we are going to need today:\n",
    "import matplotlib.pyplot as plt  # plotting library\n",
    "import numpy as np  # numerical library\n",
    "import xarray as xr  # netCDF library\n",
    "import cartopy  # Map projections libary, needed to display world maps\n",
    "import cartopy.crs as ccrs  # Projections list\n",
    "# Some defaults:\n",
    "plt.rcParams['figure.figsize'] = (12, 5)  # Default plot size\n",
    "np.set_printoptions(threshold=20)  # avoid to print very large arrays on screen\n",
    "# The commands below are to ignore certain warnings.\n",
    "import warnings\n",
    "warnings.filterwarnings('ignore')"
   ]
  },
  {
   "cell_type": "markdown",
   "metadata": {},
   "source": [
    "### 3.2.2 Get NetCDF Data"
   ]
  },
  {
   "cell_type": "markdown",
   "metadata": {},
   "source": [
    "The data we are going to use in this chapter is from ECMWF. We will use a dataset, downloaded with the methods explained in the chapter 02. \n",
    "\n",
    "The dataset contains the monthly means of daily means of the 2 meter temperature as well as the total precipitation. You can either get the data [here]() or download it on your own, following the instructions of the previous chapter!"
   ]
  },
  {
   "cell_type": "markdown",
   "metadata": {},
   "source": [
    "### 3.2.3 Read NetCDF Data"
   ]
  },
  {
   "cell_type": "markdown",
   "metadata": {},
   "source": [
    "NetCDF files are binary files, which means that you can't just open them in a text editor. You need a special reader for it. \n",
    "\n",
    "To handle NetCDF data, python comes with the module [xarray](http://xarray.pydata.org/en/stable/). We already imported it before as `xr`! Xarray provides a lot of useful methods. The one to read NetCDF files is `xr.open_dataset(datadir)`. See the example underneath to understand how it works!"
   ]
  },
  {
   "cell_type": "code",
   "execution_count": 3,
   "metadata": {},
   "outputs": [],
   "source": [
    "dataDIR = './data/ERA5-LowRes-MonthlyAvg-t2m_tp.nc' \n",
    "# the path to which you saved the netCDF file in the step before\n",
    "# Here I downloaded the file in the \"data\" folder which I placed in the same folder as the notebook --> the dot \".\" \n",
    "# in the beginning means \"look in the current foler\"\n",
    "\n",
    "ds = xr.open_dataset(dataDIR) # the data of the netCDF File will be stored in \"ds\" (dataset)"
   ]
  },
  {
   "cell_type": "markdown",
   "metadata": {},
   "source": [
    "**Note**: you'll have to give an absolute or relative path to the file for this to work. For example ``'C:\\PATH\\TO\\FILE\\ERA5-MonthlyAvg-2tm_tp-75-rolled.nc'`` in windows."
   ]
  },
  {
   "cell_type": "markdown",
   "metadata": {},
   "source": [
    "Let's see, what our **ds** object looks like!"
   ]
  },
  {
   "cell_type": "code",
   "execution_count": 4,
   "metadata": {},
   "outputs": [
    {
     "data": {
      "text/html": [
       "<pre>&lt;xarray.Dataset&gt;\n",
       "Dimensions:    (latitude: 241, longitude: 480, time: 480)\n",
       "Coordinates:\n",
       "  * longitude  (longitude) float32 -179.625 -178.875 ... 178.875 179.625\n",
       "  * latitude   (latitude) float32 90.0 89.25 88.5 87.75 ... -88.5 -89.25 -90.0\n",
       "  * time       (time) datetime64[ns] 1979-01-01 1979-02-01 ... 2018-12-01\n",
       "Data variables:\n",
       "    tp         (time, latitude, longitude) float32 ...\n",
       "    t2m        (time, latitude, longitude) float32 ...\n",
       "Attributes:\n",
       "    Conventions:  CF-1.6\n",
       "    history:      2019-11-26 14:52:06 GMT by grib_to_netcdf-2.14.0: /opt/ecmw...</pre>"
      ],
      "text/plain": [
       "<xarray.Dataset>\n",
       "Dimensions:    (latitude: 241, longitude: 480, time: 480)\n",
       "Coordinates:\n",
       "  * longitude  (longitude) float32 -179.625 -178.875 ... 178.875 179.625\n",
       "  * latitude   (latitude) float32 90.0 89.25 88.5 87.75 ... -88.5 -89.25 -90.0\n",
       "  * time       (time) datetime64[ns] 1979-01-01 1979-02-01 ... 2018-12-01\n",
       "Data variables:\n",
       "    tp         (time, latitude, longitude) float32 ...\n",
       "    t2m        (time, latitude, longitude) float32 ...\n",
       "Attributes:\n",
       "    Conventions:  CF-1.6\n",
       "    history:      2019-11-26 14:52:06 GMT by grib_to_netcdf-2.14.0: /opt/ecmw..."
      ]
     },
     "execution_count": 4,
     "metadata": {},
     "output_type": "execute_result"
    }
   ],
   "source": [
    "ds"
   ]
  },
  {
   "cell_type": "markdown",
   "metadata": {},
   "source": [
    "Alright. So let's go through this step by step. \n",
    "\n",
    "Our `ds`is of the type `xarray.DataSet` (convince yourself above). A`xarray.Dataset` generally consists of the following key properties: \n",
    "\n",
    "* **Dimensions**: dimension names for each axis (in our case:'latitude', 'longitude', 'month'), specifies the number of elements for each Dimension, e.g. `time: 488`.\n",
    "* **Coordinates**: a container of arrays (coordinates) that label each point. E.g.: 1-dim arrays of numbers (like a coordinate vector) , DateTime objects (for time labeling), or strings. On the right hand side you can see the actual values that the coordinates have.\n",
    "* **Variables**: a numpy.ndarray holding the array’s values, this is where the actual data is stored! In our case, we can expect three arrays of size [241, 480, 488].\n",
    "* **Attributes**: does not contain any data, is a container that holds arbitrary metadata (attributes), like the title of the data, additional information about the dataset,...\n",
    "\n",
    "A `xarray.DataSet` is a collection of `xarray.DataArray`s. Each NetCDF file contains such a DataSet.\n",
    "\n",
    "So what is a `xarray.DataArray`?\n",
    "It is a multi-dimensional array with labeled or named dimensions. DataArray objects add metadata such as dimension names, coordinates, and attributes (defined below) to underlying “unlabeled” data structures such as our normal numpy arrays.\n",
    "\n",
    "In our example above, each `xarray.DataArray` would consist of one of the listed Data Variables, e.g. `t2m` the 2 meter temperature. Together those three DataArrays form a `xarray.DataSet`, which in turn is stored in our downloaded netCDF file. \n"
   ]
  },
  {
   "cell_type": "markdown",
   "metadata": {},
   "source": [
    "The **xarray logo** gives us a visual understanding of how a xarray Dataset looks like:"
   ]
  },
  {
   "cell_type": "markdown",
   "metadata": {},
   "source": [
    "![4D-Data: Data of a specific area dependent on height z and time](xarraylogo.png \"\")"
   ]
  },
  {
   "cell_type": "markdown",
   "metadata": {},
   "source": [
    "![](dataset-diagram.png \"\")"
   ]
  },
  {
   "cell_type": "markdown",
   "metadata": {},
   "source": [
    "For us, the most interesting two properties will be the coordinates and the variables. Let's have a closer look at them! "
   ]
  },
  {
   "cell_type": "markdown",
   "metadata": {},
   "source": [
    "#### Coordinates"
   ]
  },
  {
   "cell_type": "markdown",
   "metadata": {},
   "source": [
    "You can adress all the different properties of the `xarray.DataArray` via the dot `.` expression:"
   ]
  },
  {
   "cell_type": "code",
   "execution_count": 5,
   "metadata": {},
   "outputs": [
    {
     "data": {
      "text/html": [
       "<pre>&lt;xarray.DataArray &#x27;time&#x27; (time: 480)&gt;\n",
       "array([&#x27;1979-01-01T00:00:00.000000000&#x27;, &#x27;1979-02-01T00:00:00.000000000&#x27;,\n",
       "       &#x27;1979-03-01T00:00:00.000000000&#x27;, ..., &#x27;2018-10-01T00:00:00.000000000&#x27;,\n",
       "       &#x27;2018-11-01T00:00:00.000000000&#x27;, &#x27;2018-12-01T00:00:00.000000000&#x27;],\n",
       "      dtype=&#x27;datetime64[ns]&#x27;)\n",
       "Coordinates:\n",
       "  * time     (time) datetime64[ns] 1979-01-01 1979-02-01 ... 2018-12-01\n",
       "Attributes:\n",
       "    long_name:  time</pre>"
      ],
      "text/plain": [
       "<xarray.DataArray 'time' (time: 480)>\n",
       "array(['1979-01-01T00:00:00.000000000', '1979-02-01T00:00:00.000000000',\n",
       "       '1979-03-01T00:00:00.000000000', ..., '2018-10-01T00:00:00.000000000',\n",
       "       '2018-11-01T00:00:00.000000000', '2018-12-01T00:00:00.000000000'],\n",
       "      dtype='datetime64[ns]')\n",
       "Coordinates:\n",
       "  * time     (time) datetime64[ns] 1979-01-01 1979-02-01 ... 2018-12-01\n",
       "Attributes:\n",
       "    long_name:  time"
      ]
     },
     "execution_count": 5,
     "metadata": {},
     "output_type": "execute_result"
    }
   ],
   "source": [
    "ds.time # adress the coordinate 'time'"
   ]
  },
  {
   "cell_type": "markdown",
   "metadata": {},
   "source": [
    "**Time** goes from 1979 to 2019 and has a resolution of one month. You can read this out of the data listed to the right of `time` at the coordinates. The type of the given values is datetime64."
   ]
  },
  {
   "cell_type": "markdown",
   "metadata": {},
   "source": [
    "The **spatial coordinates** are as easy to understand:"
   ]
  },
  {
   "cell_type": "code",
   "execution_count": 6,
   "metadata": {},
   "outputs": [
    {
     "data": {
      "text/html": [
       "<pre>&lt;xarray.DataArray &#x27;latitude&#x27; (latitude: 241)&gt;\n",
       "array([ 90.  ,  89.25,  88.5 , ..., -88.5 , -89.25, -90.  ], dtype=float32)\n",
       "Coordinates:\n",
       "  * latitude  (latitude) float32 90.0 89.25 88.5 87.75 ... -88.5 -89.25 -90.0\n",
       "Attributes:\n",
       "    units:      degrees_north\n",
       "    long_name:  latitude</pre>"
      ],
      "text/plain": [
       "<xarray.DataArray 'latitude' (latitude: 241)>\n",
       "array([ 90.  ,  89.25,  88.5 , ..., -88.5 , -89.25, -90.  ], dtype=float32)\n",
       "Coordinates:\n",
       "  * latitude  (latitude) float32 90.0 89.25 88.5 87.75 ... -88.5 -89.25 -90.0\n",
       "Attributes:\n",
       "    units:      degrees_north\n",
       "    long_name:  latitude"
      ]
     },
     "execution_count": 6,
     "metadata": {},
     "output_type": "execute_result"
    }
   ],
   "source": [
    "ds.latitude"
   ]
  },
  {
   "cell_type": "markdown",
   "metadata": {},
   "source": [
    "Latitude goes from 90 to -90 and has the unit 'degrees north'. The spatial resolution of this dataset is 0.75°, as you can easily see from the given values. "
   ]
  },
  {
   "cell_type": "code",
   "execution_count": 7,
   "metadata": {},
   "outputs": [
    {
     "data": {
      "text/html": [
       "<pre>&lt;xarray.DataArray &#x27;longitude&#x27; (longitude: 480)&gt;\n",
       "array([-179.625, -178.875, -178.125, ...,  178.125,  178.875,  179.625],\n",
       "      dtype=float32)\n",
       "Coordinates:\n",
       "  * longitude  (longitude) float32 -179.625 -178.875 ... 178.875 179.625\n",
       "Attributes:\n",
       "    units:      degrees_east\n",
       "    long_name:  longitude</pre>"
      ],
      "text/plain": [
       "<xarray.DataArray 'longitude' (longitude: 480)>\n",
       "array([-179.625, -178.875, -178.125, ...,  178.125,  178.875,  179.625],\n",
       "      dtype=float32)\n",
       "Coordinates:\n",
       "  * longitude  (longitude) float32 -179.625 -178.875 ... 178.875 179.625\n",
       "Attributes:\n",
       "    units:      degrees_east\n",
       "    long_name:  longitude"
      ]
     },
     "execution_count": 7,
     "metadata": {},
     "output_type": "execute_result"
    }
   ],
   "source": [
    "ds.longitude"
   ]
  },
  {
   "cell_type": "markdown",
   "metadata": {},
   "source": [
    "#### Variables"
   ]
  },
  {
   "cell_type": "markdown",
   "metadata": {},
   "source": [
    "As for coordinates, variables can also be accessed directly from the dataset via the `.` syntax! By doing this, you will actually extract one DataArray from the whole DataSet. We can try it now for e.g. the ` t2m` variable."
   ]
  },
  {
   "cell_type": "code",
   "execution_count": 8,
   "metadata": {},
   "outputs": [
    {
     "data": {
      "text/html": [
       "<pre>&lt;xarray.DataArray &#x27;t2m&#x27; (time: 480, latitude: 241, longitude: 480)&gt;\n",
       "[55526400 values with dtype=float32]\n",
       "Coordinates:\n",
       "  * longitude  (longitude) float32 -179.625 -178.875 ... 178.875 179.625\n",
       "  * latitude   (latitude) float32 90.0 89.25 88.5 87.75 ... -88.5 -89.25 -90.0\n",
       "  * time       (time) datetime64[ns] 1979-01-01 1979-02-01 ... 2018-12-01\n",
       "Attributes:\n",
       "    units:      K\n",
       "    long_name:  2 metre temperature</pre>"
      ],
      "text/plain": [
       "<xarray.DataArray 't2m' (time: 480, latitude: 241, longitude: 480)>\n",
       "[55526400 values with dtype=float32]\n",
       "Coordinates:\n",
       "  * longitude  (longitude) float32 -179.625 -178.875 ... 178.875 179.625\n",
       "  * latitude   (latitude) float32 90.0 89.25 88.5 87.75 ... -88.5 -89.25 -90.0\n",
       "  * time       (time) datetime64[ns] 1979-01-01 1979-02-01 ... 2018-12-01\n",
       "Attributes:\n",
       "    units:      K\n",
       "    long_name:  2 metre temperature"
      ]
     },
     "execution_count": 8,
     "metadata": {},
     "output_type": "execute_result"
    }
   ],
   "source": [
    "ds.t2m"
   ]
  },
  {
   "cell_type": "markdown",
   "metadata": {},
   "source": [
    "The **attributes** of a variable are extremely important, they cary the *metadata* and must be specified by the data provider. Here we can read in which units the variable is defined (K for Kelvin), as well as a description of the variable (the \"long_name\" attribute), and sometimes also what the valid value range is (not here). \n",
    "\n",
    "From the upper description \"... values with dtype=float32\", we can also see the data type of the values of our data: in our case this is \"float32\", a floating point number with 32 bits. "
   ]
  },
  {
   "cell_type": "code",
   "execution_count": 9,
   "metadata": {
    "scrolled": true
   },
   "outputs": [
    {
     "data": {
      "text/html": [
       "<pre>&lt;xarray.DataArray &#x27;tp&#x27; (time: 480, latitude: 241, longitude: 480)&gt;\n",
       "[55526400 values with dtype=float32]\n",
       "Coordinates:\n",
       "  * longitude  (longitude) float32 -179.625 -178.875 ... 178.875 179.625\n",
       "  * latitude   (latitude) float32 90.0 89.25 88.5 87.75 ... -88.5 -89.25 -90.0\n",
       "  * time       (time) datetime64[ns] 1979-01-01 1979-02-01 ... 2018-12-01\n",
       "Attributes:\n",
       "    units:      m\n",
       "    long_name:  Total precipitation</pre>"
      ],
      "text/plain": [
       "<xarray.DataArray 'tp' (time: 480, latitude: 241, longitude: 480)>\n",
       "[55526400 values with dtype=float32]\n",
       "Coordinates:\n",
       "  * longitude  (longitude) float32 -179.625 -178.875 ... 178.875 179.625\n",
       "  * latitude   (latitude) float32 90.0 89.25 88.5 87.75 ... -88.5 -89.25 -90.0\n",
       "  * time       (time) datetime64[ns] 1979-01-01 1979-02-01 ... 2018-12-01\n",
       "Attributes:\n",
       "    units:      m\n",
       "    long_name:  Total precipitation"
      ]
     },
     "execution_count": 9,
     "metadata": {},
     "output_type": "execute_result"
    }
   ],
   "source": [
    "ds.tp"
   ]
  },
  {
   "cell_type": "markdown",
   "metadata": {},
   "source": [
    "The total precipitation is given in m! Since mm is the common unit for precipitation data, we will need to calculate that in order to get expected values of precipitation."
   ]
  },
  {
   "cell_type": "code",
   "execution_count": 10,
   "metadata": {},
   "outputs": [],
   "source": [
    "tp_mm = ds.tp  / 1000"
   ]
  },
  {
   "cell_type": "code",
   "execution_count": 11,
   "metadata": {},
   "outputs": [
    {
     "data": {
      "text/plain": [
       "'Total precipitation'"
      ]
     },
     "execution_count": 11,
     "metadata": {},
     "output_type": "execute_result"
    }
   ],
   "source": [
    "ds.tp.long_name # adress the attributes of a variable via a second '.'!"
   ]
  }
 ],
 "metadata": {
  "kernelspec": {
   "display_name": "Python 3",
   "language": "python",
   "name": "python3"
  },
  "language_info": {
   "codemirror_mode": {
    "name": "ipython",
    "version": 3
   },
   "file_extension": ".py",
   "mimetype": "text/x-python",
   "name": "python",
   "nbconvert_exporter": "python",
   "pygments_lexer": "ipython3",
   "version": "3.6.6"
  }
 },
 "nbformat": 4,
 "nbformat_minor": 2
}
