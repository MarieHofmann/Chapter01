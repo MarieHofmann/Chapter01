{
 "cells": [
  {
   "cell_type": "markdown",
   "metadata": {},
   "source": [
    "# 7. Correlation Maps"
   ]
  },
  {
   "cell_type": "markdown",
   "metadata": {},
   "source": [
    "In this chapter, we will learn how to produce correlation plots in 1D (scatter plots) and 2D (maps). As an example we will take the prominent feature of the North Atlantic Oscillation (NAO).\n",
    "\n",
    "Some word about this phenomena:\n",
    "\n",
    "Over the middle and high latitudes of the Northern Hemisphere, especially during the cold season months(November-April), the most prominent and recurrent pattern of atmospheric variability is the NAO (James Hurrel et al., 2003).  It is a weather phenomenon of fluctuations in the difference of atmospheric pressure at sea level (SLP) between the Icelandic Low and the Azores High. Through fluctuations in the strength of the Icelandic low and the Azores high, it controls the strength and direction of westerly winds and location of storm tracks across the North Atlantic (James Hurrel et al., 2003). It is a perfect example for correlation: in phases of positive NAO+, both the Azores High as well as the Icelandic Low are well pronounced compared to the mean over time. In contrast for phases of NAO-, both are rather weak.\n",
    "\n",
    "See the plots below from Wanner, H., Brönnimann, S., Casty, C., et al. (2001):"
   ]
  },
  {
   "cell_type": "markdown",
   "metadata": {},
   "source": [
    "**NAO+**\n",
    "\n",
    "<img src=\"https://www.dropbox.com/s/1amtd1c5kwuzgtm/wanner_etal_01_naoplus.jpg?dl=1\" width=\"80%\"  align=\"left\">"
   ]
  },
  {
   "cell_type": "markdown",
   "metadata": {},
   "source": [
    "**NAO-**\n",
    "\n",
    "<img src=\"https://www.dropbox.com/s/tiassrtblrryfma/wanner_etal_01_naominus.jpg?dl=1\" width=\"80%\"  align=\"left\">"
   ]
  },
  {
   "cell_type": "code",
   "execution_count": 1,
   "metadata": {},
   "outputs": [],
   "source": [
    "# Display the plots in the notebook:\n",
    "%matplotlib inline"
   ]
  },
  {
   "cell_type": "code",
   "execution_count": 2,
   "metadata": {},
   "outputs": [],
   "source": [
    "# Import the tools we are going to need today:\n",
    "import matplotlib.pyplot as plt  # plotting library\n",
    "import numpy as np  # numerical library\n",
    "import xarray as xr  # netCDF library\n",
    "import cartopy  # Map projections libary\n",
    "import cartopy.crs as ccrs  # Projections list\n",
    "import pandas as pd  # new package! this is the package at the base of xarray\n",
    "#from eofs.xarray import Eof  # new package! http://ajdawson.github.io/eofs/index.html\n",
    "# Some defaults:\n",
    "plt.rcParams['figure.figsize'] = (12, 5)  # Default plot size\n",
    "np.set_printoptions(threshold=20)  # avoid to print very large arrays on screen\n",
    "# The commands below are to ignore certain warnings.\n",
    "import warnings\n",
    "warnings.filterwarnings('ignore')\n"
   ]
  }
 ],
 "metadata": {
  "kernelspec": {
   "display_name": "Python 3",
   "language": "python",
   "name": "python3"
  },
  "language_info": {
   "codemirror_mode": {
    "name": "ipython",
    "version": 3
   },
   "file_extension": ".py",
   "mimetype": "text/x-python",
   "name": "python",
   "nbconvert_exporter": "python",
   "pygments_lexer": "ipython3",
   "version": "3.6.6"
  }
 },
 "nbformat": 4,
 "nbformat_minor": 2
}
