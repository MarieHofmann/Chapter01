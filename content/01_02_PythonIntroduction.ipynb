{
 "cells": [
  {
   "cell_type": "markdown",
   "metadata": {},
   "source": [
    "## 1.2 A Python Introduction"
   ]
  },
  {
   "cell_type": "markdown",
   "metadata": {},
   "source": [
    "A python interpreter is a program, that reads the code you wrote and executes the instructions you gave in your code. In this jupyter-notebook, the interpreter is called iPython. It works as a simple calculator: You write an expression and the output will return the result."
   ]
  },
  {
   "cell_type": "code",
   "execution_count": null,
   "metadata": {},
   "outputs": [],
   "source": [
    "(2 + 3) / 5"
   ]
  },
  {
   "cell_type": "code",
   "execution_count": null,
   "metadata": {},
   "outputs": [],
   "source": [
    "3**2\n",
    "# ** is used to calculate powers\n",
    "# with a # sign in front of the line, you can write comments, that are not executed!"
   ]
  },
  {
   "cell_type": "markdown",
   "metadata": {},
   "source": [
    "The equal sign `=` is used to assign a value to a variable! "
   ]
  },
  {
   "cell_type": "code",
   "execution_count": null,
   "metadata": {},
   "outputs": [],
   "source": [
    "a = 10 #cases matter in python!\n",
    "A = 11\n",
    "print(a+A)"
   ]
  },
  {
   "cell_type": "markdown",
   "metadata": {},
   "source": [
    "A variable in Python is very similar to a variable in Matlab or in other languages. A variable can be initialised, used and re-initialised:\n"
   ]
  },
  {
   "cell_type": "code",
   "execution_count": null,
   "metadata": {},
   "outputs": [],
   "source": [
    "x = 10\n",
    "y = x**2\n",
    "print(y)\n",
    "y = 'Hi!'\n",
    "print(y)"
   ]
  },
  {
   "cell_type": "markdown",
   "metadata": {},
   "source": [
    "If you do not assign any value to a variable, trying to use it will result in an error..."
   ]
  },
  {
   "cell_type": "code",
   "execution_count": null,
   "metadata": {},
   "outputs": [],
   "source": [
    "print(c)"
   ]
  },
  {
   "cell_type": "markdown",
   "metadata": {},
   "source": [
    "**Error messages** in python are most of the time very useful! They tell you, what kind of mistake you have in your code (In this case: `NameError`, since you forgot to define c before using it). They will furthermore give you a traceback to where in your code the mistake happened. Often, you can google the error and you will find tons of solutions for your problem. "
   ]
  },
  {
   "cell_type": "markdown",
   "metadata": {},
   "source": [
    "### 1.2.1 Importing Modules in Python"
   ]
  },
  {
   "cell_type": "markdown",
   "metadata": {},
   "source": [
    "There are only a couple of functions in Python (like for example `print`) that are always and everywhere available: These are called **built-in** functions, since they are \"built-in\" the basic python language. However, if you create functions on your own or want to use more than the built-in functions, you will have to `import` those. \n",
    "For example you can `import` the module `numpy`. A module is a storage for a certain collection of functions and variables. Numpy is a module, in which functions and variables are stored that help you do arithmetics or vector computations. Well, that's exactly what we want to do here! So numpy will be one of tools we will use later on. "
   ]
  },
  {
   "cell_type": "code",
   "execution_count": null,
   "metadata": {},
   "outputs": [],
   "source": [
    "import numpy"
   ]
  },
  {
   "cell_type": "markdown",
   "metadata": {},
   "source": [
    "With this simple command, we just \"imported\" the entire `Numpy` library! This means we have now acces on all its variables and functions. Since you will use numpy a lot and it is more convenient to not always type its full name, you can give it a nickname (alias): "
   ]
  },
  {
   "cell_type": "code",
   "execution_count": null,
   "metadata": {},
   "outputs": [],
   "source": [
    "import numpy as np # np is the common convention used for numpy"
   ]
  },
  {
   "cell_type": "markdown",
   "metadata": {},
   "source": [
    "We imported the numpy module and names it \"np\". So from now on, you can use all the methods that numpy provides by calling `np.`!"
   ]
  },
  {
   "cell_type": "code",
   "execution_count": null,
   "metadata": {},
   "outputs": [],
   "source": [
    "a = np.arange(5)\n",
    "print(a)"
   ]
  },
  {
   "cell_type": "markdown",
   "metadata": {},
   "source": [
    "To get an idea of all the new functions available to us, you can write \"`np.`\" (\"np\" followed by a dot) in a free cell, then type `tab` (`tab` is the **autocompletion** shortcut of ipython, it is very helpful when writing code). A list will appear, that shows all the new possibilities available to you because of importing numpy."
   ]
  },
  {
   "cell_type": "markdown",
   "metadata": {},
   "source": [
    "If you want to know, how all of those functions work, you can type `?` plus the function (e.g. `? np.full()`). This gives you help and explains the function. \n",
    "Or you simply google the function and there will be tons of good explanations.\n"
   ]
  },
  {
   "cell_type": "markdown",
   "metadata": {},
   "source": [
    "There are mainly **three modules** that we will keep on using when we work with climate data:\n",
    "\n",
    "* [numpy](http://docs.scipy.org/doc/numpy/reference/): this is the base on which any scientific python project is built.\n",
    "* [xarray](http://xarray.pydata.org/en/stable/): working with our netCDF multidimensional data\n",
    "* [matplotlib](http://matplotlib.org/index.html): gives us the tools we need to plot our data\n"
   ]
  },
  {
   "cell_type": "markdown",
   "metadata": {},
   "source": [
    "### 1.2.2 Data Types"
   ]
  },
  {
   "cell_type": "markdown",
   "metadata": {},
   "source": [
    "Python objects have a type (synonym: data type). There are built-in data types and others that are not built in. Built-in means, that those data types are directly available in the interpreter, as opposed to other data types which maybe obtained either by importing them or by creating new data types yourselves. The following ones are all built-in!"
   ]
  },
  {
   "cell_type": "markdown",
   "metadata": {},
   "source": [
    "**Numbers**: Integers and Floats"
   ]
  },
  {
   "cell_type": "code",
   "execution_count": null,
   "metadata": {},
   "outputs": [],
   "source": [
    "a = 5\n",
    "type(a) # what is the data type of this?"
   ]
  },
  {
   "cell_type": "code",
   "execution_count": null,
   "metadata": {},
   "outputs": [],
   "source": [
    "a = 5.5\n",
    "type(a)"
   ]
  },
  {
   "cell_type": "markdown",
   "metadata": {},
   "source": [
    "**Booleans**: Has the values `True` and `False`. It is very useful, to test the truth of an expression!"
   ]
  },
  {
   "cell_type": "markdown",
   "metadata": {},
   "source": [
    "The mathematical \"equal\" is written with a double equal sign `==` in python, since the single equal is already used to define variables."
   ]
  },
  {
   "cell_type": "code",
   "execution_count": null,
   "metadata": {},
   "outputs": [],
   "source": [
    "a = 10\n",
    "b = 10\n",
    "a == b"
   ]
  },
  {
   "cell_type": "code",
   "execution_count": null,
   "metadata": {},
   "outputs": [],
   "source": [
    "type(a == b)"
   ]
  },
  {
   "cell_type": "code",
   "execution_count": null,
   "metadata": {},
   "outputs": [],
   "source": [
    "5 < 3"
   ]
  },
  {
   "cell_type": "markdown",
   "metadata": {},
   "source": [
    "**String**: This is simply text. "
   ]
  },
  {
   "cell_type": "code",
   "execution_count": null,
   "metadata": {},
   "outputs": [],
   "source": [
    "a = 'Rainbow'\n",
    "b = \"Thunderstorm\" # you can define a string either with single or double quotes. It doesn't matter!\n",
    "print(a)"
   ]
  },
  {
   "cell_type": "markdown",
   "metadata": {},
   "source": [
    "Strings can be concatenated:"
   ]
  },
  {
   "cell_type": "code",
   "execution_count": null,
   "metadata": {},
   "outputs": [],
   "source": [
    "a = 'Happy Birthday'\n",
    "b = ' Hans! '\n",
    "\n",
    "c = a + b\n",
    "print(c)"
   ]
  },
  {
   "cell_type": "markdown",
   "metadata": {},
   "source": [
    "But if you want to concatenate a string and a number (`int` / `float`), you will first have to turn the number into a string. This works the following:"
   ]
  },
  {
   "cell_type": "code",
   "execution_count": null,
   "metadata": {},
   "outputs": [],
   "source": [
    "d = str(50) # turn my number into data type 'string'!\n",
    "e = ' years is a great age!'\n",
    "f = c + d + e\n",
    "print(f)"
   ]
  },
  {
   "cell_type": "markdown",
   "metadata": {},
   "source": [
    "Strings have a length, that you can ask for with the built-in function `len()` and they can be indexed."
   ]
  },
  {
   "cell_type": "code",
   "execution_count": null,
   "metadata": {},
   "outputs": [],
   "source": [
    "len(a)"
   ]
  },
  {
   "cell_type": "code",
   "execution_count": null,
   "metadata": {},
   "outputs": [],
   "source": [
    "a[0:3] # when indexing, the first index is always included, while the last index is always excluded. \n",
    "       # Unlike in some other programming languages, indexing in python starts with 0!"
   ]
  },
  {
   "cell_type": "markdown",
   "metadata": {},
   "source": [
    "Strings are immutable, which means that once you created a string object, you cannot change a part of its content. You can only change the whole variable. Trying to change e.g. one character of the whole word will result in an error:"
   ]
  },
  {
   "cell_type": "code",
   "execution_count": null,
   "metadata": {},
   "outputs": [],
   "source": [
    "a[0] = 'J'"
   ]
  },
  {
   "cell_type": "markdown",
   "metadata": {},
   "source": [
    "Strings in python are an object. This means that, like everything else in python, they have methods and attributes attached to them. You can for example transform every character of an object into uppercase letters, format your string and much more. Those are methods, which will do something to your object and give you an output. Methods (you might know them as \"functions\") are called with parentheses, and sometimes they require arguments in those brackets. \n",
    "\n",
    "Have a look at the [Python Documentation](https://docs.python.org/2/library/string.html) of Strings to get to know all the methods available!\n",
    "You can use them the following way:"
   ]
  },
  {
   "cell_type": "code",
   "execution_count": null,
   "metadata": {},
   "outputs": [],
   "source": [
    "a.upper() #append your object with a dot `.` and the method you want to use e.g. upper()"
   ]
  },
  {
   "cell_type": "markdown",
   "metadata": {},
   "source": [
    "You can also split your string and rejoin it afterwards:"
   ]
  },
  {
   "cell_type": "code",
   "execution_count": null,
   "metadata": {
    "scrolled": true
   },
   "outputs": [],
   "source": [
    "a_splitted = a.split(' ') #split, where the space is!\n",
    "print(a_splitted)"
   ]
  },
  {
   "cell_type": "code",
   "execution_count": null,
   "metadata": {},
   "outputs": [],
   "source": [
    "' '.join(a_splitted) #join with a space in between the two variables"
   ]
  },
  {
   "cell_type": "markdown",
   "metadata": {},
   "source": [
    "Some more examples:"
   ]
  },
  {
   "cell_type": "code",
   "execution_count": null,
   "metadata": {},
   "outputs": [],
   "source": [
    "a.find('a') # gives the position of the first 'a' in my string!"
   ]
  },
  {
   "cell_type": "code",
   "execution_count": null,
   "metadata": {},
   "outputs": [],
   "source": [
    "a.swapcase() # swaps cases!"
   ]
  },
  {
   "cell_type": "markdown",
   "metadata": {},
   "source": [
    "Use the `a.` + `tab` autocompletion if you want to find more examples!"
   ]
  },
  {
   "cell_type": "markdown",
   "metadata": {},
   "source": [
    "**Lists**: This is a sequence of \"things\". Those things can have any type you want them to have. Things are called objects in python."
   ]
  },
  {
   "cell_type": "code",
   "execution_count": null,
   "metadata": {},
   "outputs": [],
   "source": [
    "x = [a , 50, 'laughing', 1, 2, 3, True]"
   ]
  },
  {
   "cell_type": "markdown",
   "metadata": {},
   "source": [
    "Unlike strings, lists are mutable. This means you can change their content elemenwise, delete elements or add new ones. "
   ]
  },
  {
   "cell_type": "code",
   "execution_count": null,
   "metadata": {},
   "outputs": [],
   "source": [
    "h = x + [1,1,1] #add elements. You can also use the append method: x.append([1,1,1])\n",
    "h[2] = 'crying' #assign a new value\n",
    "h[0:1] = [] #remove elements\n",
    "print(h)"
   ]
  },
  {
   "cell_type": "markdown",
   "metadata": {},
   "source": [
    "As for strings, there are methods attached to lists. [Here](https://docs.python.org/2/tutorial/datastructures.html), you will find all of them! "
   ]
  },
  {
   "cell_type": "code",
   "execution_count": null,
   "metadata": {},
   "outputs": [],
   "source": [
    "l = [5 , 7, 3, -1, 2.44]\n",
    "l.sort() #sort by value\n",
    "l"
   ]
  },
  {
   "cell_type": "markdown",
   "metadata": {},
   "source": [
    "Similar to strings, lists have a length and can be indexed (see above). Lists are not like arrays! Adding two lists will concatenate them and not add the respective first, second or third entries of both lists elementwise."
   ]
  },
  {
   "cell_type": "code",
   "execution_count": null,
   "metadata": {},
   "outputs": [],
   "source": [
    "y = [1 , 1, 1]\n",
    "z = [2, 2, 2]\n",
    "print(y + z)"
   ]
  },
  {
   "cell_type": "markdown",
   "metadata": {},
   "source": [
    "So it looks like there is no built-in tool in python, that would allow us to work with multidimensional data or vectors and matrices! Therefore, python comes with several modules, which you can easily import and which will serve very well for this kind of data crunching."
   ]
  },
  {
   "cell_type": "markdown",
   "metadata": {},
   "source": [
    "**Arrays**: Arrays are THE data type to work with, if you want to do arithmetics and vector computations. Arrays can be generated by the module `numpy`, that we already got to know earlier. "
   ]
  },
  {
   "cell_type": "markdown",
   "metadata": {},
   "source": [
    "### 1.2.3 Numpy "
   ]
  },
  {
   "cell_type": "markdown",
   "metadata": {},
   "source": [
    "N-dimensional ndarray's are the core structure of the numpy library. Those are multidimensional container of items of the same type and size. The number of dimensions and items in an array is defined by its shape, which is a tuple of N positive integers that specify the number of items in each dimension. The type of items in the array is specified by a separate data-type object (dtype), one of which is associated with each ndarray.\n",
    "\n",
    "All ndarrays are homogenous: every item takes up the same size block of memory, and all blocks are interpreted in exactly the same way."
   ]
  },
  {
   "cell_type": "markdown",
   "metadata": {},
   "source": [
    "A numpy ndarray look like this one, for example:"
   ]
  },
  {
   "cell_type": "code",
   "execution_count": null,
   "metadata": {},
   "outputs": [],
   "source": [
    "np.arange(10) # one dimensional array"
   ]
  },
  {
   "cell_type": "markdown",
   "metadata": {},
   "source": [
    "Or like this:"
   ]
  },
  {
   "cell_type": "code",
   "execution_count": null,
   "metadata": {},
   "outputs": [],
   "source": [
    "np.ones((5,4,3)) # 3-dimensional array with 5 elements in first dimension, 4 elements in 2nd dim, 3 elements in 3rd dim\n",
    "                 # the command np.ones creates an array with all emelents of it having the value 1"
   ]
  },
  {
   "cell_type": "markdown",
   "metadata": {},
   "source": [
    "Enough for now about python in general! Lets jump to the next section and have a look at downloading data from the ECMWF server!"
   ]
  }
 ],
 "metadata": {
  "kernelspec": {
   "display_name": "Python 3",
   "language": "python",
   "name": "python3"
  },
  "language_info": {
   "codemirror_mode": {
    "name": "ipython",
    "version": 3
   },
   "file_extension": ".py",
   "mimetype": "text/x-python",
   "name": "python",
   "nbconvert_exporter": "python",
   "pygments_lexer": "ipython3",
   "version": "3.6.6"
  }
 },
 "nbformat": 4,
 "nbformat_minor": 2
}
