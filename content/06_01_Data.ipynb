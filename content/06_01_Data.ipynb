{
 "cells": [
  {
   "cell_type": "markdown",
   "metadata": {},
   "source": [
    "## 6.1 The Data"
   ]
  },
  {
   "cell_type": "markdown",
   "metadata": {},
   "source": [
    "Let's load the data of vertical integrated moisture fluxes and have a closer look at it:"
   ]
  },
  {
   "cell_type": "code",
   "execution_count": 1,
   "metadata": {},
   "outputs": [],
   "source": [
    "# Display the plots in the notebook:\n",
    "%matplotlib inline"
   ]
  },
  {
   "cell_type": "code",
   "execution_count": 2,
   "metadata": {},
   "outputs": [],
   "source": [
    "# Import the tools we are going to need today:\n",
    "import matplotlib.pyplot as plt  # plotting library\n",
    "import numpy as np  # numerical library\n",
    "import xarray as xr  # netCDF library\n",
    "import cartopy  # Map projections libary\n",
    "import cartopy.crs as ccrs  # Projections list\n",
    "# Some defaults:\n",
    "plt.rcParams['figure.figsize'] = (12, 5)  # Default plot size\n",
    "np.set_printoptions(threshold=20)  # avoid to print very large arrays on screen\n",
    "# The commands below are to ignore certain warnings.\n",
    "import warnings\n",
    "warnings.filterwarnings('ignore')"
   ]
  },
  {
   "cell_type": "code",
   "execution_count": 3,
   "metadata": {},
   "outputs": [],
   "source": [
    "ds = xr.open_dataset('./data/ERA5-LowRes-MonthlyAvg-VertIntegratedMoistureFlux.nc')"
   ]
  },
  {
   "cell_type": "code",
   "execution_count": 4,
   "metadata": {},
   "outputs": [],
   "source": [
    "ds = ds.rename({\"p71.162_0001\" : \"EMT\", \"p72.162_0001\":\"NMT\"})"
   ]
  },
  {
   "cell_type": "code",
   "execution_count": 5,
   "metadata": {},
   "outputs": [
    {
     "data": {
      "text/html": [
       "<pre>&lt;xarray.DataArray &#x27;EMT&#x27; (time: 491, latitude: 241, longitude: 480)&gt;\n",
       "[56798880 values with dtype=float32]\n",
       "Coordinates:\n",
       "  * longitude  (longitude) float32 -179.625 -178.875 ... 178.875 179.625\n",
       "  * latitude   (latitude) float32 90.0 89.25 88.5 87.75 ... -88.5 -89.25 -90.0\n",
       "  * time       (time) datetime64[ns] 1979-01-01 1979-02-01 ... 2019-11-01\n",
       "Attributes:\n",
       "    units:      kg m**-1 s**-1\n",
       "    long_name:  Vertical integral of eastward water vapour flux</pre>"
      ],
      "text/plain": [
       "<xarray.DataArray 'EMT' (time: 491, latitude: 241, longitude: 480)>\n",
       "[56798880 values with dtype=float32]\n",
       "Coordinates:\n",
       "  * longitude  (longitude) float32 -179.625 -178.875 ... 178.875 179.625\n",
       "  * latitude   (latitude) float32 90.0 89.25 88.5 87.75 ... -88.5 -89.25 -90.0\n",
       "  * time       (time) datetime64[ns] 1979-01-01 1979-02-01 ... 2019-11-01\n",
       "Attributes:\n",
       "    units:      kg m**-1 s**-1\n",
       "    long_name:  Vertical integral of eastward water vapour flux"
      ]
     },
     "execution_count": 5,
     "metadata": {},
     "output_type": "execute_result"
    }
   ],
   "source": [
    "ds.EMT"
   ]
  },
  {
   "cell_type": "markdown",
   "metadata": {},
   "source": [
    "As expected, the unit of the integrated water vapour flux is $kg m^{-1}s^{-1}$! \n",
    "We have a variable for the eastward transport and one for the northward transport of water vapour with $u$, the zonal wind or $v$, the meridional wind respectively. This is pretty similar to having $u$ and $v$ as the vector components of the horizontal windfield. Hence, we can take the eastward and northward vertical integral of water vapour flux as the vector components of the integrated water vapour flux field! \n",
    "\n",
    "We can plot this field as a vectorfield; this is shown below."
   ]
  }
 ],
 "metadata": {
  "kernelspec": {
   "display_name": "Python 3",
   "language": "python",
   "name": "python3"
  },
  "language_info": {
   "codemirror_mode": {
    "name": "ipython",
    "version": 3
   },
   "file_extension": ".py",
   "mimetype": "text/x-python",
   "name": "python",
   "nbconvert_exporter": "python",
   "pygments_lexer": "ipython3",
   "version": "3.6.6"
  }
 },
 "nbformat": 4,
 "nbformat_minor": 2
}
